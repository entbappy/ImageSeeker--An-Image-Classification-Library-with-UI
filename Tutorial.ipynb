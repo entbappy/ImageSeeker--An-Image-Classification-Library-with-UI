{
 "cells": [
  {
   "cell_type": "code",
   "execution_count": 1,
   "metadata": {},
   "outputs": [
    {
     "data": {
      "text/plain": [
       "'\\nAuthor: Bappy Ahmed\\nEmail: entbappy73@gmail.com\\nDate: 06-sep-2021\\n\\n'"
      ]
     },
     "execution_count": 1,
     "metadata": {},
     "output_type": "execute_result"
    }
   ],
   "source": [
    "'''\n",
    "Author: Bappy Ahmed\n",
    "Email: entbappy73@gmail.com\n",
    "Date: 06-sep-2021\n",
    "\n",
    "'''"
   ]
  },
  {
   "cell_type": "markdown",
   "metadata": {},
   "source": [
    "# ImageSeeker Beginner's Tutorial\n",
    "\n",
    "   <img src=\"https://raw.githubusercontent.com/entbappy/Branching-tutorial/master/ImageSeeker.png\" width=\"800\" \n",
    "     height=\"400\">\n",
    "\n",
    "Welcome to ImageSeeker! This is the official notebook tutorial of ImageSeeker. Here, we will go through some  usage of ImageSeeker in image classification, including the following:\n",
    "* Run inference on images, with an existing Keras application model\n",
    "* Train a model on a new dataset\n",
    "\n",
    "You can make a copy of this tutorial by \"File -> Open in playground mode\" and make changes there. __DO NOT__ request access to this tutorial.\n",
    "\n",
    "\n",
    "### Note: After changing anything in the configuration.py file, you need to \"restart runtime\" in your notebook. "
   ]
  },
  {
   "cell_type": "code",
   "execution_count": 10,
   "metadata": {},
   "outputs": [],
   "source": [
    "# Import some common libraries\n",
    "import os\n",
    "from utils import config\n",
    "from utils import data_manager as dm\n",
    "import train_engine\n",
    "import predict_engine"
   ]
  },
  {
   "cell_type": "code",
   "execution_count": 11,
   "metadata": {},
   "outputs": [
    {
     "data": {
      "text/plain": [
       "{'TRAIN_DATA_DIR': 'H:\\\\Parsonal\\\\Coding Practice\\\\iNeuron\\\\Moduler Coding\\\\ImageSeeker\\\\data\\\\train',\n",
       " 'VALID_DATA_DIR': 'H:\\\\Parsonal\\\\Coding Practice\\\\iNeuron\\\\Moduler Coding\\\\ImageSeeker\\\\data\\\\valid',\n",
       " 'AUGMENTATION': True,\n",
       " 'CLASSES': 2,\n",
       " 'IMAGE_SIZE': (224, 224, 3),\n",
       " 'BATCH_SIZE': 32,\n",
       " 'PREDICTION_DATA_DIR': 'H:\\\\Parsonal\\\\\\\\Coding Practice\\\\iNeuron\\\\Moduler Coding\\\\ImageSeeker\\\\prediction'}"
      ]
     },
     "execution_count": 11,
     "metadata": {},
     "output_type": "execute_result"
    }
   ],
   "source": [
    "# Reloading your configuration of data\n",
    "config.configureData()"
   ]
  },
  {
   "cell_type": "code",
   "execution_count": 12,
   "metadata": {},
   "outputs": [
    {
     "data": {
      "text/plain": [
       "{'PRETRAIN_MODEL_DIR': None,\n",
       " 'MODEL_OBJ': <tensorflow.python.keras.engine.functional.Functional at 0x22d90260388>,\n",
       " 'MODEL_NAME': 'ResNet50',\n",
       " 'EPOCHS': 5,\n",
       " 'CHECKPOINT_DIR': 'Checkpoints',\n",
       " 'FREEZE_ALL': True,\n",
       " 'FREEZE_TILL': None,\n",
       " 'OPTIMIZER': 'adam',\n",
       " 'LOSS_FUNC': 'categorical_crossentropy'}"
      ]
     },
     "execution_count": 12,
     "metadata": {},
     "output_type": "execute_result"
    }
   ],
   "source": [
    "# Reloading your configuration of model\n",
    "config.configureModel()"
   ]
  },
  {
   "cell_type": "code",
   "execution_count": 13,
   "metadata": {},
   "outputs": [
    {
     "name": "stdout",
     "output_type": "stream",
     "text": [
      "Detected pretrain model!!\n",
      "Model has been saved following directory : Models\\ResNet50.h5\n",
      "Preparing model...\n",
      "Freezing all...\n",
      "Adding sigmoid...\n",
      "Model loaded!!\n",
      "Augmetation applied!\n",
      "Found 200 images belonging to 2 classes.\n",
      "Found 110 images belonging to 2 classes.\n",
      "Saving logs at Tensorboard/logs/fit\\log_2021_09_09_20_53_51\n",
      "Epoch 1/5\n",
      "6/6 [==============================] - 59s 9s/step - loss: 3.8931 - accuracy: 0.5498 - val_loss: 2.5265 - val_accuracy: 0.5000\n",
      "Epoch 2/5\n",
      "6/6 [==============================] - 41s 8s/step - loss: 4.2348 - accuracy: 0.4496 - val_loss: 2.1593 - val_accuracy: 0.4896\n",
      "Epoch 3/5\n",
      "6/6 [==============================] - 37s 7s/step - loss: 3.0313 - accuracy: 0.4835 - val_loss: 3.0058 - val_accuracy: 0.5000\n",
      "Epoch 4/5\n",
      "6/6 [==============================] - 36s 6s/step - loss: 2.1259 - accuracy: 0.5609 - val_loss: 0.8772 - val_accuracy: 0.6354\n",
      "Epoch 5/5\n",
      "6/6 [==============================] - 40s 7s/step - loss: 1.0482 - accuracy: 0.5799 - val_loss: 1.5671 - val_accuracy: 0.5625\n",
      "Model saved at the following location : New_trained_model/newResNet50.h5\n"
     ]
    }
   ],
   "source": [
    "# start training\n",
    "train_engine.train()"
   ]
  },
  {
   "cell_type": "code",
   "execution_count": 14,
   "metadata": {},
   "outputs": [
    {
     "name": "stdout",
     "output_type": "stream",
     "text": [
      "Augmetation applied!\n",
      "Found 200 images belonging to 2 classes.\n",
      "Found 110 images belonging to 2 classes.\n",
      "{'cat': 0, 'dog': 1}\n"
     ]
    }
   ],
   "source": [
    "# If you want to see the class name and ID\n",
    "\n",
    "dm.class_name()"
   ]
  },
  {
   "cell_type": "code",
   "execution_count": 15,
   "metadata": {},
   "outputs": [
    {
     "name": "stdout",
     "output_type": "stream",
     "text": [
      "Original image : cat.2012.jpg. Predicted as [0]\n",
      "Original image : cat.2018.jpg. Predicted as [0]\n",
      "Original image : dog.2001.jpg. Predicted as [1]\n",
      "Original image : dog.2002.jpg. Predicted as [1]\n"
     ]
    }
   ],
   "source": [
    "# Start Prediction\n",
    "\n",
    "predict_engine.predict()"
   ]
  },
  {
   "cell_type": "code",
   "execution_count": 16,
   "metadata": {},
   "outputs": [
    {
     "name": "stdout",
     "output_type": "stream",
     "text": [
      "The tensorboard extension is already loaded. To reload it, use:\n",
      "  %reload_ext tensorboard\n"
     ]
    }
   ],
   "source": [
    "# See tensorboard log\n",
    "\n",
    "%load_ext tensorboard"
   ]
  },
  {
   "cell_type": "code",
   "execution_count": 17,
   "metadata": {},
   "outputs": [
    {
     "data": {
      "text/plain": [
       "Reusing TensorBoard on port 6006 (pid 9968), started 18:39:41 ago. (Use '!kill 9968' to kill it.)"
      ]
     },
     "metadata": {},
     "output_type": "display_data"
    },
    {
     "data": {
      "text/html": [
       "\n",
       "      <iframe id=\"tensorboard-frame-d53316124443999\" width=\"100%\" height=\"800\" frameborder=\"0\">\n",
       "      </iframe>\n",
       "      <script>\n",
       "        (function() {\n",
       "          const frame = document.getElementById(\"tensorboard-frame-d53316124443999\");\n",
       "          const url = new URL(\"/\", window.location);\n",
       "          const port = 6006;\n",
       "          if (port) {\n",
       "            url.port = port;\n",
       "          }\n",
       "          frame.src = url;\n",
       "        })();\n",
       "      </script>\n",
       "    "
      ],
      "text/plain": [
       "<IPython.core.display.HTML object>"
      ]
     },
     "metadata": {},
     "output_type": "display_data"
    }
   ],
   "source": [
    "%tensorboard --logdir Tensorboard/logs/fit"
   ]
  },
  {
   "cell_type": "code",
   "execution_count": null,
   "metadata": {},
   "outputs": [],
   "source": []
  }
 ],
 "metadata": {
  "kernelspec": {
   "display_name": "Python 3",
   "language": "python",
   "name": "python3"
  },
  "language_info": {
   "codemirror_mode": {
    "name": "ipython",
    "version": 3
   },
   "file_extension": ".py",
   "mimetype": "text/x-python",
   "name": "python",
   "nbconvert_exporter": "python",
   "pygments_lexer": "ipython3",
   "version": "3.7.10"
  }
 },
 "nbformat": 4,
 "nbformat_minor": 4
}
